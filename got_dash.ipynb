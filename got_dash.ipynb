{
 "cells": [
  {
   "cell_type": "code",
   "execution_count": 6,
   "id": "576aa415",
   "metadata": {},
   "outputs": [
    {
     "name": "stdout",
     "output_type": "stream",
     "text": [
      "Dash is running on http://127.0.0.1:8050/\n",
      "\n",
      "Dash is running on http://127.0.0.1:8050/\n",
      "\n",
      "Dash is running on http://127.0.0.1:8050/\n",
      "\n",
      "Dash is running on http://127.0.0.1:8050/\n",
      "\n",
      " * Serving Flask app '__main__'\n",
      " * Debug mode: on\n"
     ]
    },
    {
     "ename": "SystemExit",
     "evalue": "1",
     "output_type": "error",
     "traceback": [
      "An exception has occurred, use %tb to see the full traceback.\n",
      "\u001b[1;31mSystemExit\u001b[0m\u001b[1;31m:\u001b[0m 1\n"
     ]
    },
    {
     "name": "stderr",
     "output_type": "stream",
     "text": [
      "C:\\Users\\tonyw\\anaconda3\\lib\\site-packages\\IPython\\core\\interactiveshell.py:3377: UserWarning:\n",
      "\n",
      "To exit: use 'exit', 'quit', or Ctrl-D.\n",
      "\n"
     ]
    }
   ],
   "source": [
    "# To run download the file with a .py extension\n",
    "# Then in a command prompt type \"Pyton got_dash\"\n",
    "# The datafile \"GoT Sentiment.csv\" needs to be in the \"c:\\dash\" directory\n",
    "# Point a web browser to http://127.0.0.1:8050/ to see the dashboard\n",
    "\n",
    "\n",
    "import dash\n",
    "import dash_core_components as dcc\n",
    "import dash_html_components as html\n",
    "import plotly.express as px\n",
    "import pandas as pd\n",
    "\n",
    "# Create the app\n",
    "app = dash.Dash(__name__)\n",
    "\n",
    "\n",
    "\n",
    "sentiment = pd.read_csv('C:\\\\dash\\\\GoT Sentiment.csv')\n",
    "\n",
    "fig = px.histogram(sentiment, x='date', nbins=20, y=['positive','negative','neutral'], \n",
    "                    title = \"GoT Sentiment per Month\",barmode='group',\n",
    "                    labels={\n",
    "                     \"date\": \"Month\",\n",
    "                     \"variable\": \"Sentiment\"\n",
    "                 },                \n",
    "                )\n",
    "\n",
    "fig.update_layout(font=dict(family=\"Courier New, monospace\",size=14,color=\"RebeccaPurple\"), yaxis_title= \"Sentiment\")\n",
    "\n",
    "app.layout = html.Div(children=[\n",
    "    html.H1(\n",
    "        children='Game of Thrones Sentiment',\n",
    "        style={\n",
    "            'fontFamily': 'Courier New, monospace', \n",
    "            'fontSize': '24px'  \n",
    "        }\n",
    "    ),\n",
    "\n",
    "    dcc.Graph(\n",
    "        id='example-graph',\n",
    "        figure=fig\n",
    "    )\n",
    "])\n",
    "\n",
    "#app.layout = html.Div(children=[\n",
    "#   html.H1(children='Hello Dash'),  # Create a title with H1 tag\n",
    "\n",
    "\n",
    "#   dcc.Graph(\n",
    "#       id='example-graph',\n",
    "#       figure=fig\n",
    "#   )  # Display the Plotly figure\n",
    "#])\n",
    "\n",
    "\n",
    "\n",
    "\n",
    "if __name__ == '__main__':\n",
    "   app.run_server(debug=True) # Run the Dash app"
   ]
  },
  {
   "cell_type": "code",
   "execution_count": null,
   "id": "ea852add",
   "metadata": {},
   "outputs": [],
   "source": []
  }
 ],
 "metadata": {
  "kernelspec": {
   "display_name": "Python 3 (ipykernel)",
   "language": "python",
   "name": "python3"
  },
  "language_info": {
   "codemirror_mode": {
    "name": "ipython",
    "version": 3
   },
   "file_extension": ".py",
   "mimetype": "text/x-python",
   "name": "python",
   "nbconvert_exporter": "python",
   "pygments_lexer": "ipython3",
   "version": "3.9.12"
  }
 },
 "nbformat": 4,
 "nbformat_minor": 5
}
