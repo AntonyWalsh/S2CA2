{
 "cells": [
  {
   "cell_type": "code",
   "execution_count": 101,
   "id": "472efbcf",
   "metadata": {},
   "outputs": [],
   "source": [
    "import os\n",
    "\n",
    "from pyspark.sql import SparkSession\n",
    "from pyspark.sql.functions import lower, col\n",
    "\n"
   ]
  },
  {
   "cell_type": "code",
   "execution_count": 102,
   "id": "24b422a5",
   "metadata": {},
   "outputs": [],
   "source": [
    "#Connection path to the java database connection jars for MongoDB\n",
    "os.environ['PYSPARK_SUBMIT_ARGS'] = '--jars \"C:\\\\MongoDBSparkCOnnector\\\\mongo-spark-connector_2.12-3.0.2.jar,C:\\\\MongoDBSparkConnector\\\\mongo-java-driver-3.12.9.jar\" pyspark-shell'"
   ]
  },
  {
   "cell_type": "code",
   "execution_count": 103,
   "id": "3f1c8f78",
   "metadata": {},
   "outputs": [],
   "source": [
    "#set up spark session\n",
    "spark = SparkSession.builder \\\n",
    "    .appName(\"MongoDB and PySpark\") \\\n",
    "    .config(\"spark.mongodb.input.uri\", \"mongodb://localhost:27017/GoT.twitter\") \\\n",
    "    .config(\"spark.mongodb.output.uri\", \"mongodb://localhost:27017/GoT.twitter\") \\\n",
    "    .getOrCreate()"
   ]
  },
  {
   "cell_type": "code",
   "execution_count": 104,
   "id": "12dbc6c0",
   "metadata": {},
   "outputs": [],
   "source": [
    "#Read in montly data csv files\n",
    "\n",
    "jan = spark.read.csv('C:\\\\data files\\\\Jan2016 GOT.csv',inferSchema=True, header =True)\n",
    "feb = spark.read.csv('C:\\\\data files\\\\Feb2016 GOT.csv')\n",
    "march = spark.read.csv('C:\\\\data files\\\\March2016 GOT.csv')\n",
    "april = spark.read.csv('C:\\\\data files\\\\April2016 GOT.csv')\n",
    "may = spark.read.csv('C:\\\\data files\\\\May2016 GOT.csv')\n",
    "june = spark.read.csv('C:\\\\data files\\\\June2016 GOT.csv')\n",
    "july = spark.read.csv('C:\\\\data files\\\\July2016 GOT.csv')\n",
    "august = spark.read.csv('C:\\\\data files\\\\August2016 GOT.csv')\n",
    "september = spark.read.csv('C:\\\\data files\\\\Sept2016 GOT.csv')\n",
    "october = spark.read.csv('C:\\\\data files\\\\Oct2016 GOT.csv')\n",
    "november = spark.read.csv('C:\\\\data files\\\\Nov2016 GOT.csv')\n",
    "december = spark.read.csv('C:\\\\data files\\\\Dec2016 GOT.csv')"
   ]
  },
  {
   "cell_type": "code",
   "execution_count": 105,
   "id": "50736b04",
   "metadata": {},
   "outputs": [
    {
     "name": "stdout",
     "output_type": "stream",
     "text": [
      "+--------------------+-----------------+------------+--------------------+------------------+--------------------+---------------+--------------+\n",
      "|              poster|        recipient|relationship|          tweet date|          tweet id|               tweet|       hashtags|retweet status|\n",
      "+--------------------+-----------------+------------+--------------------+------------------+--------------------+---------------+--------------+\n",
      "|        alekss______|          nelbka5|    mentions|fri jan 01 07:31:...|682826571724537856|rt @nelbka5: Гото...|['ночьшерлока']|          True|\n",
      "|      lesmaecarino26|    thrones_memes|    mentions|fri jan 01 07:34:...|682827255400148992|rt @thrones_memes...|             []|          True|\n",
      "|             1di_kit|        otradaily|    mentions|fri jan 01 07:36:...|682827800659771392|\"rt @otradaily: \"...|           null|          null|\n",
      "|\"\"louis and danie...|             null|        null|                null|              null|                null|           null|          null|\n",
      "|\"\"niall and selena\"\"|             null|        null|                null|              null|                null|           null|          null|\n",
      "|  \"\"zayn and gigi\"\" |             null|        null|                null|              null|                null|           null|          null|\n",
      "|     \"\"liam payne\"\" |             null|        null|                null|              null|                null|           null|          null|\n",
      "|fandom: https://t...|               []|        True|                null|              null|                null|           null|          null|\n",
      "|        koala_v_sype|     koala_v_sype|       tweet|fri jan 01 07:37:...|682828077483880448|Ну я пошел за хавкой|             []|         False|\n",
      "|          __mai__msa|   mr_awesome6793|    mentions|fri jan 01 07:37:...|682828085872332800|rt @mr_awesome679...|             []|          True|\n",
      "|        pannapat_fon|        mini_kabu|    mentions|fri jan 01 07:40:...|682828656289251328|rt @mini_kabu: as...|             []|          True|\n",
      "|     meow_meow_bitch|          koffboy|    mentions|fri jan 01 07:47:...|682830480811671552|rt @koffboy: Жела...|           null|          null|\n",
      "|1. Получить много...|       не работая|        null|                null|              null|                null|           null|          null|\n",
      "|         2. Поумнеть| ничего не изучая|        null|                null|              null|                null|           null|          null|\n",
      "|  3. Любить без боли|             null|        null|                null|              null|                null|           null|          null|\n",
      "|4. Есть до отвала …\"|               []|        True|                null|              null|                null|           null|          null|\n",
      "|            praw5160|        mini_kabu|    mentions|fri jan 01 07:48:...|682830753453850624|rt @mini_kabu: มา...|             []|          True|\n",
      "|          khalisi389|       khalisi389|       tweet|fri jan 01 07:52:...|682831873328812032|     happy new years|           null|          null|\n",
      "|Новый Год прошел-...|               []|       False|                null|              null|                null|           null|          null|\n",
      "|       superhogwarts|         wikhoran|       reply|fri jan 01 07:53:...|682831890102009856|        @wikhoran 😘|             []|         False|\n",
      "+--------------------+-----------------+------------+--------------------+------------------+--------------------+---------------+--------------+\n",
      "only showing top 20 rows\n",
      "\n"
     ]
    }
   ],
   "source": [
    "jan.show()"
   ]
  },
  {
   "cell_type": "code",
   "execution_count": 106,
   "id": "5191c82b",
   "metadata": {},
   "outputs": [],
   "source": [
    "#append into one dataframe\n",
    "got_df = jan.union(feb).union(march).union(april).union(may).union(june).union(july).union(august).union(september).union(october).union(november).union(december)"
   ]
  },
  {
   "cell_type": "code",
   "execution_count": 107,
   "id": "3aee5c9f",
   "metadata": {},
   "outputs": [
    {
     "data": {
      "text/plain": [
       "352773"
      ]
     },
     "execution_count": 107,
     "metadata": {},
     "output_type": "execute_result"
    }
   ],
   "source": [
    "got_df.count()"
   ]
  },
  {
   "cell_type": "code",
   "execution_count": 108,
   "id": "83055690",
   "metadata": {},
   "outputs": [
    {
     "name": "stdout",
     "output_type": "stream",
     "text": [
      "root\n",
      " |-- poster: string (nullable = true)\n",
      " |-- recipient: string (nullable = true)\n",
      " |-- relationship: string (nullable = true)\n",
      " |-- tweet date: string (nullable = true)\n",
      " |-- tweet id: string (nullable = true)\n",
      " |-- tweet: string (nullable = true)\n",
      " |-- hashtags: string (nullable = true)\n",
      " |-- retweet status: string (nullable = true)\n",
      "\n"
     ]
    }
   ],
   "source": [
    "got_df.printSchema()"
   ]
  },
  {
   "cell_type": "code",
   "execution_count": 109,
   "id": "5752e239",
   "metadata": {},
   "outputs": [],
   "source": [
    "#Get rid of false positives\n",
    "#Drop all where hashtag != gameofthrones\n",
    "\n",
    "got_df = got_df.withColumn(\"hashtags\", lower(col(\"hashtags\")))\n",
    "got_df = got_df.filter(got_df.hashtags.contains(\"gameofthrones\"))\n"
   ]
  },
  {
   "cell_type": "code",
   "execution_count": 110,
   "id": "4c907ef9",
   "metadata": {},
   "outputs": [
    {
     "name": "stdout",
     "output_type": "stream",
     "text": [
      "+---------------+---------------+------------+--------------------+------------------+--------------------+--------------------+--------------+\n",
      "|         poster|      recipient|relationship|          tweet date|          tweet id|               tweet|            hashtags|retweet status|\n",
      "+---------------+---------------+------------+--------------------+------------------+--------------------+--------------------+--------------+\n",
      "|    irinaforden|       j0n_snow|    mentions|fri jan 01 09:36:...|682857802516172800|rt @j0n_snow: you...|['jonsnow', 'game...|          True|\n",
      "|    fantasysite|    fantasysite|       tweet|fri jan 01 10:57:...|682878425925746688|#gameofthrones ga...|   ['gameofthrones']|         False|\n",
      "|alandalustravel|          spain|    mentions|fri jan 01 14:25:...|682930607253499904|\"rt @spain \"\"#did...|['didyouknow', 'l...|         False|\n",
      "|     rockxx1974|     rockxx1974|       tweet|fri jan 01 14:36:...|682933518113046528|#gameofthrones ma...|['gameofthrones',...|         False|\n",
      "|      zeddstark|  gameofthrones|    mentions|fri jan 01 15:12:...|682942477108563969|rt @gameofthrones...|['gameofthrones',...|          True|\n",
      "|      zeddstark|         google|    mentions|fri jan 01 15:12:...|682942477108563969|rt @gameofthrones...|['gameofthrones',...|          True|\n",
      "|         yeutch|         yeutch|       tweet|fri jan 01 15:45:...|682950765061644289|still can't wait ...|   ['gameofthrones']|         False|\n",
      "|  the_navalotor|  the_navalotor|       tweet|fri jan 01 16:15:...|682958272882733056|#khaleesi taking ...|['khaleesi', 'gam...|         False|\n",
      "|       tommotjp|       tommotjp|       tweet|fri jan 01 16:38:...|682964195252514819|game of thrones c...|   ['gameofthrones']|         False|\n",
      "|   alainaevans1|  imkristenbell|    mentions|fri jan 01 17:13:...|682973003286745088|rt @imkristenbell...|['gameofthrones',...|          True|\n",
      "|  dudleydooragz|        tbvines|       reply|fri jan 01 17:21:...|682974962026704896|@tbvines is that ...|   ['gameofthrones']|         False|\n",
      "|lolitsascenekid|  imkristenbell|    mentions|fri jan 01 17:39:...|682979475085197312|rt @imkristenbell...|['gameofthrones',...|          True|\n",
      "|sachin_desai247|sachin_desai247|       tweet|fri jan 01 18:52:...|682997837735550978|it's 2016 already...|   ['gameofthrones']|         False|\n",
      "| youngkuzzy1995| youngkuzzy1995|       tweet|fri jan 01 19:54:...|683013457327865856|some people are j...|['gameofthrones',...|         False|\n",
      "|    chaticiando|     ziperativo|    mentions|fri jan 01 22:35:...|683053923998035970|rt @ziperativo: f...|['gameofthrones',...|          True|\n",
      "|      glucking1|    skyatlantic|       reply|fri jan 01 22:47:...|683057090659745794|@skyatlantic tryi...|['gameofthrones',...|         False|\n",
      "|tatyy_rodriguez|tatyy_rodriguez|       tweet|fri jan 01 22:56:...|683059359786643456|maratón de #gameo...|   ['gameofthrones']|         False|\n",
      "| amadeusmadamus| amadeusmadamus|       tweet|fri jan 01 23:37:...|683069589685665793|that's all for no...|['gameofthrones',...|         False|\n",
      "|    rosmensucks|    rosmensucks|       tweet|sat jan 02 00:28:...|683082449438380032|a little man can ...|   ['gameofthrones']|         False|\n",
      "|  mtorresguisot|             ew|    mentions|sat jan 02 01:19:...|683095158171287552|rt @ew: from #gam...|['gameofthrones',...|          True|\n",
      "+---------------+---------------+------------+--------------------+------------------+--------------------+--------------------+--------------+\n",
      "only showing top 20 rows\n",
      "\n"
     ]
    }
   ],
   "source": [
    "got_df.show()"
   ]
  },
  {
   "cell_type": "code",
   "execution_count": 111,
   "id": "6d89f380",
   "metadata": {},
   "outputs": [],
   "source": [
    "#Store in MongoDB\n",
    "got_df.write.format(\"mongo\").mode(\"append\").save()\n",
    "\n"
   ]
  },
  {
   "cell_type": "code",
   "execution_count": 112,
   "id": "328d16d4",
   "metadata": {},
   "outputs": [],
   "source": [
    " spark.stop()"
   ]
  }
 ],
 "metadata": {
  "kernelspec": {
   "display_name": "Python 3 (ipykernel)",
   "language": "python",
   "name": "python3"
  },
  "language_info": {
   "codemirror_mode": {
    "name": "ipython",
    "version": 3
   },
   "file_extension": ".py",
   "mimetype": "text/x-python",
   "name": "python",
   "nbconvert_exporter": "python",
   "pygments_lexer": "ipython3",
   "version": "3.9.12"
  }
 },
 "nbformat": 4,
 "nbformat_minor": 5
}
