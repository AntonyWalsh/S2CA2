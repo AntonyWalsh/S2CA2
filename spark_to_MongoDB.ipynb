{
 "cells": [
  {
   "cell_type": "code",
   "execution_count": 51,
   "id": "472efbcf",
   "metadata": {},
   "outputs": [],
   "source": [
    "import os\n",
    "\n",
    "from pyspark.sql import SparkSession\n",
    "from pyspark.sql.functions import lower, col\n",
    "\n"
   ]
  },
  {
   "cell_type": "code",
   "execution_count": 52,
   "id": "24b422a5",
   "metadata": {},
   "outputs": [],
   "source": [
    "#Connection path to the java database connection jars for MongoDB\n",
    "os.environ['PYSPARK_SUBMIT_ARGS'] = '--jars \"C:\\\\MongoDBSparkCOnnector\\\\mongo-spark-connector_2.12-3.0.2.jar,C:\\\\MongoDBSparkConnector\\\\mongo-java-driver-3.12.9.jar\" pyspark-shell'"
   ]
  },
  {
   "cell_type": "code",
   "execution_count": 53,
   "id": "3f1c8f78",
   "metadata": {},
   "outputs": [],
   "source": [
    "#set up spark session\n",
    "spark = SparkSession.builder \\\n",
    "    .appName(\"MongoDB and PySpark\") \\\n",
    "    .config(\"spark.mongodb.input.uri\", \"mongodb://localhost:27017/GoT.twitter\") \\\n",
    "    .config(\"spark.mongodb.output.uri\", \"mongodb://localhost:27017/GoT.twitter\") \\\n",
    "    .getOrCreate()"
   ]
  },
  {
   "cell_type": "code",
   "execution_count": 54,
   "id": "12dbc6c0",
   "metadata": {},
   "outputs": [],
   "source": [
    "#Read in montly data csv files\n",
    "\n",
    "jan = spark.read.option(\"multiLine\", \"true\").option(\"escape\", \"\\\"\").csv('C:\\\\data files\\\\Jan2016 GOT.csv',inferSchema=True, header =True)\n",
    "feb = spark.read.option(\"multiLine\", \"true\").option(\"escape\", \"\\\"\").csv('C:\\\\data files\\\\Feb2016 GOT.csv',inferSchema=True, header =True)\n",
    "march = spark.read.option(\"multiLine\", \"true\").option(\"escape\", \"\\\"\").csv('C:\\\\data files\\\\March2016 GOT.csv',inferSchema=True, header =True)\n",
    "april = spark.read.option(\"multiLine\", \"true\").option(\"escape\", \"\\\"\").csv('C:\\\\data files\\\\April2016 GOT.csv',inferSchema=True, header =True)\n",
    "may = spark.read.option(\"multiLine\", \"true\").option(\"escape\", \"\\\"\").csv('C:\\\\data files\\\\May2016 GOT.csv',inferSchema=True, header =True)\n",
    "june = spark.read.option(\"multiLine\", \"true\").option(\"escape\", \"\\\"\").csv('C:\\\\data files\\\\June2016 GOT.csv',inferSchema=True, header =True)\n",
    "july = spark.read.option(\"multiLine\", \"true\").option(\"escape\", \"\\\"\").csv('C:\\\\data files\\\\July2016 GOT.csv',inferSchema=True, header =True)\n",
    "august = spark.read.option(\"multiLine\", \"true\").option(\"escape\", \"\\\"\").csv('C:\\\\data files\\\\August2016 GOT.csv',inferSchema=True, header =True)\n",
    "september = spark.read.option(\"multiLine\", \"true\").option(\"escape\", \"\\\"\").csv('C:\\\\data files\\\\Sept2016 GOT.csv',inferSchema=True, header =True)\n",
    "october = spark.read.option(\"multiLine\", \"true\").option(\"escape\", \"\\\"\").csv('C:\\\\data files\\\\Oct2016 GOT.csv',inferSchema=True, header =True)\n",
    "november = spark.read.option(\"multiLine\", \"true\").option(\"escape\", \"\\\"\").csv('C:\\\\data files\\\\Nov2016 GOT.csv',inferSchema=True, header =True)\n",
    "december = spark.read.option(\"multiLine\", \"true\").option(\"escape\", \"\\\"\").csv('C:\\\\data files\\\\Dec2016 GOT.csv',inferSchema=True, header =True)"
   ]
  },
  {
   "cell_type": "code",
   "execution_count": 55,
   "id": "5191c82b",
   "metadata": {},
   "outputs": [],
   "source": [
    "#append into one dataframe\n",
    "got_df = jan.union(feb).union(march).union(april).union(may).union(june).union(july).union(august).union(september).union(october).union(november).union(december)"
   ]
  },
  {
   "cell_type": "code",
   "execution_count": 56,
   "id": "3aee5c9f",
   "metadata": {},
   "outputs": [
    {
     "data": {
      "text/plain": [
       "268051"
      ]
     },
     "execution_count": 56,
     "metadata": {},
     "output_type": "execute_result"
    }
   ],
   "source": [
    "got_df.count()"
   ]
  },
  {
   "cell_type": "code",
   "execution_count": 57,
   "id": "83055690",
   "metadata": {},
   "outputs": [
    {
     "name": "stdout",
     "output_type": "stream",
     "text": [
      "root\n",
      " |-- poster: string (nullable = true)\n",
      " |-- recipient: string (nullable = true)\n",
      " |-- relationship: string (nullable = true)\n",
      " |-- tweet date: string (nullable = true)\n",
      " |-- tweet id: long (nullable = true)\n",
      " |-- tweet: string (nullable = true)\n",
      " |-- hashtags: string (nullable = true)\n",
      " |-- retweet status: boolean (nullable = true)\n",
      "\n"
     ]
    }
   ],
   "source": [
    "got_df.printSchema()"
   ]
  },
  {
   "cell_type": "code",
   "execution_count": 58,
   "id": "5752e239",
   "metadata": {},
   "outputs": [],
   "source": [
    "#Get rid of false positives\n",
    "#Drop all where hashtag != gameofthrones\n",
    "\n",
    "got_df = got_df.withColumn(\"hashtags\", lower(col(\"hashtags\")))\n",
    "got_df = got_df.filter(got_df.hashtags.contains(\"gameofthrones\"))\n"
   ]
  },
  {
   "cell_type": "code",
   "execution_count": 59,
   "id": "6d89f380",
   "metadata": {},
   "outputs": [],
   "source": [
    "#Store in MongoDB\n",
    "got_df.write.format(\"mongo\").mode(\"append\").save()\n",
    "\n"
   ]
  },
  {
   "cell_type": "code",
   "execution_count": 60,
   "id": "328d16d4",
   "metadata": {},
   "outputs": [],
   "source": [
    " spark.stop()"
   ]
  }
 ],
 "metadata": {
  "kernelspec": {
   "display_name": "Python 3 (ipykernel)",
   "language": "python",
   "name": "python3"
  },
  "language_info": {
   "codemirror_mode": {
    "name": "ipython",
    "version": 3
   },
   "file_extension": ".py",
   "mimetype": "text/x-python",
   "name": "python",
   "nbconvert_exporter": "python",
   "pygments_lexer": "ipython3",
   "version": "3.9.12"
  }
 },
 "nbformat": 4,
 "nbformat_minor": 5
}
