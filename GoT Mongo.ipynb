{
 "cells": [
  {
   "cell_type": "code",
   "execution_count": 9,
   "id": "5c6451e6",
   "metadata": {},
   "outputs": [],
   "source": [
    "from pymongo import MongoClient\n",
    "\n",
    "import pymongo as pym\n",
    "import pandas as pd\n",
    "import csv\n",
    "import json\n",
    "\n",
    "from bson.code import Code"
   ]
  },
  {
   "cell_type": "code",
   "execution_count": 10,
   "id": "69c99c7e",
   "metadata": {},
   "outputs": [],
   "source": [
    "#Creating a pymongo client\n",
    "mongo_client = MongoClient('localhost', 27017)"
   ]
  },
  {
   "cell_type": "code",
   "execution_count": 11,
   "id": "b2cdd88f",
   "metadata": {},
   "outputs": [],
   "source": [
    "GoT_df = pd.read_csv('C:\\\\data files\\\\June2016 GOT Clean.csv')"
   ]
  },
  {
   "cell_type": "code",
   "execution_count": 12,
   "id": "fa54157d",
   "metadata": {},
   "outputs": [
    {
     "data": {
      "text/html": [
       "<div>\n",
       "<style scoped>\n",
       "    .dataframe tbody tr th:only-of-type {\n",
       "        vertical-align: middle;\n",
       "    }\n",
       "\n",
       "    .dataframe tbody tr th {\n",
       "        vertical-align: top;\n",
       "    }\n",
       "\n",
       "    .dataframe thead th {\n",
       "        text-align: right;\n",
       "    }\n",
       "</style>\n",
       "<table border=\"1\" class=\"dataframe\">\n",
       "  <thead>\n",
       "    <tr style=\"text-align: right;\">\n",
       "      <th></th>\n",
       "      <th>Unnamed: 0</th>\n",
       "      <th>poster</th>\n",
       "      <th>recipient</th>\n",
       "      <th>relationship</th>\n",
       "      <th>tweet</th>\n",
       "      <th>hashtags</th>\n",
       "      <th>retweet status</th>\n",
       "      <th>day</th>\n",
       "      <th>week</th>\n",
       "      <th>month</th>\n",
       "      <th>year</th>\n",
       "      <th>date</th>\n",
       "    </tr>\n",
       "  </thead>\n",
       "  <tbody>\n",
       "    <tr>\n",
       "      <th>0</th>\n",
       "      <td>3</td>\n",
       "      <td>Macready1306</td>\n",
       "      <td>Macready1306</td>\n",
       "      <td>tweet</td>\n",
       "      <td>I've never watched #GameOfThrones so I'd love ...</td>\n",
       "      <td>['gameofthrones']</td>\n",
       "      <td>False</td>\n",
       "      <td>1</td>\n",
       "      <td>22</td>\n",
       "      <td>6</td>\n",
       "      <td>2016</td>\n",
       "      <td>2016-06-01</td>\n",
       "    </tr>\n",
       "    <tr>\n",
       "      <th>1</th>\n",
       "      <td>4</td>\n",
       "      <td>wahanapenulis</td>\n",
       "      <td>wahanapenulis</td>\n",
       "      <td>tweet</td>\n",
       "      <td>I'm Tyrion. Discover which #GameOfThrones char...</td>\n",
       "      <td>['gameofthrones']</td>\n",
       "      <td>False</td>\n",
       "      <td>1</td>\n",
       "      <td>22</td>\n",
       "      <td>6</td>\n",
       "      <td>2016</td>\n",
       "      <td>2016-06-01</td>\n",
       "    </tr>\n",
       "    <tr>\n",
       "      <th>2</th>\n",
       "      <td>6</td>\n",
       "      <td>scopece_marco</td>\n",
       "      <td>EmiliaClarkeNet</td>\n",
       "      <td>mentions</td>\n",
       "      <td>RT @EmiliaClarkeNet: (Video) Emilia Clarke on ...</td>\n",
       "      <td>['gameofthrones']</td>\n",
       "      <td>True</td>\n",
       "      <td>1</td>\n",
       "      <td>22</td>\n",
       "      <td>6</td>\n",
       "      <td>2016</td>\n",
       "      <td>2016-06-01</td>\n",
       "    </tr>\n",
       "    <tr>\n",
       "      <th>3</th>\n",
       "      <td>7</td>\n",
       "      <td>scopece_marco</td>\n",
       "      <td>emiliaclarke</td>\n",
       "      <td>mentions</td>\n",
       "      <td>RT @EmiliaClarkeNet: (Video) Emilia Clarke on ...</td>\n",
       "      <td>['gameofthrones']</td>\n",
       "      <td>True</td>\n",
       "      <td>1</td>\n",
       "      <td>22</td>\n",
       "      <td>6</td>\n",
       "      <td>2016</td>\n",
       "      <td>2016-06-01</td>\n",
       "    </tr>\n",
       "    <tr>\n",
       "      <th>4</th>\n",
       "      <td>8</td>\n",
       "      <td>Yayahemo</td>\n",
       "      <td>GoT_Tyrion</td>\n",
       "      <td>mentions</td>\n",
       "      <td>RT @GoT_Tyrion: Who would do this?? #GameofThr...</td>\n",
       "      <td>['gameofthrones']</td>\n",
       "      <td>True</td>\n",
       "      <td>1</td>\n",
       "      <td>22</td>\n",
       "      <td>6</td>\n",
       "      <td>2016</td>\n",
       "      <td>2016-06-01</td>\n",
       "    </tr>\n",
       "  </tbody>\n",
       "</table>\n",
       "</div>"
      ],
      "text/plain": [
       "   Unnamed: 0         poster        recipient relationship  \\\n",
       "0           3   Macready1306     Macready1306        tweet   \n",
       "1           4  wahanapenulis    wahanapenulis        tweet   \n",
       "2           6  scopece_marco  EmiliaClarkeNet     mentions   \n",
       "3           7  scopece_marco     emiliaclarke     mentions   \n",
       "4           8       Yayahemo       GoT_Tyrion     mentions   \n",
       "\n",
       "                                               tweet           hashtags  \\\n",
       "0  I've never watched #GameOfThrones so I'd love ...  ['gameofthrones']   \n",
       "1  I'm Tyrion. Discover which #GameOfThrones char...  ['gameofthrones']   \n",
       "2  RT @EmiliaClarkeNet: (Video) Emilia Clarke on ...  ['gameofthrones']   \n",
       "3  RT @EmiliaClarkeNet: (Video) Emilia Clarke on ...  ['gameofthrones']   \n",
       "4  RT @GoT_Tyrion: Who would do this?? #GameofThr...  ['gameofthrones']   \n",
       "\n",
       "   retweet status  day  week  month  year        date  \n",
       "0           False    1    22      6  2016  2016-06-01  \n",
       "1           False    1    22      6  2016  2016-06-01  \n",
       "2            True    1    22      6  2016  2016-06-01  \n",
       "3            True    1    22      6  2016  2016-06-01  \n",
       "4            True    1    22      6  2016  2016-06-01  "
      ]
     },
     "execution_count": 12,
     "metadata": {},
     "output_type": "execute_result"
    }
   ],
   "source": [
    "GoT_df.head()"
   ]
  },
  {
   "cell_type": "code",
   "execution_count": 13,
   "id": "f4f98835",
   "metadata": {},
   "outputs": [],
   "source": [
    "data = GoT_df.to_dict(orient = 'records')"
   ]
  },
  {
   "cell_type": "code",
   "execution_count": 14,
   "id": "2fa45300",
   "metadata": {},
   "outputs": [
    {
     "name": "stdout",
     "output_type": "stream",
     "text": [
      "MongoClient(host=['localhost:27017'], document_class=dict, tz_aware=False, connect=True)\n"
     ]
    }
   ],
   "source": [
    "print(mongo_client )"
   ]
  },
  {
   "cell_type": "code",
   "execution_count": 15,
   "id": "83c95080",
   "metadata": {},
   "outputs": [
    {
     "data": {
      "text/plain": [
       "<pymongo.results.InsertManyResult at 0x1ea6b59d760>"
      ]
     },
     "execution_count": 15,
     "metadata": {},
     "output_type": "execute_result"
    }
   ],
   "source": [
    "mongo_client.GoT.GoT_twitter.insert_many(data)"
   ]
  },
  {
   "cell_type": "code",
   "execution_count": null,
   "id": "93077bb7",
   "metadata": {},
   "outputs": [],
   "source": []
  }
 ],
 "metadata": {
  "kernelspec": {
   "display_name": "Python 3 (ipykernel)",
   "language": "python",
   "name": "python3"
  },
  "language_info": {
   "codemirror_mode": {
    "name": "ipython",
    "version": 3
   },
   "file_extension": ".py",
   "mimetype": "text/x-python",
   "name": "python",
   "nbconvert_exporter": "python",
   "pygments_lexer": "ipython3",
   "version": "3.9.12"
  }
 },
 "nbformat": 4,
 "nbformat_minor": 5
}
