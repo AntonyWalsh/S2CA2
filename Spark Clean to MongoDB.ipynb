{
 "cells": [
  {
   "cell_type": "code",
   "execution_count": 86,
   "id": "472efbcf",
   "metadata": {},
   "outputs": [],
   "source": [
    "import os\n",
    "\n",
    "from pyspark.sql import SparkSession\n",
    "from pyspark.sql.functions import lower, col\n",
    "\n"
   ]
  },
  {
   "cell_type": "code",
   "execution_count": 87,
   "id": "24b422a5",
   "metadata": {},
   "outputs": [],
   "source": [
    "os.environ['PYSPARK_SUBMIT_ARGS'] = '--jars \"C:\\\\MongoDBSparkCOnnector\\\\mongo-spark-connector_2.12-3.0.2.jar,C:\\\\MongoDBSparkConnector\\\\mongo-java-driver-3.12.9.jar\" pyspark-shell'"
   ]
  },
  {
   "cell_type": "code",
   "execution_count": 88,
   "id": "3f1c8f78",
   "metadata": {},
   "outputs": [],
   "source": [
    "spark = SparkSession.builder \\\n",
    "    .appName(\"MongoDB and PySpark\") \\\n",
    "    .config(\"spark.mongodb.input.uri\", \"mongodb://localhost:27017/GoT.twitter\") \\\n",
    "    .config(\"spark.mongodb.output.uri\", \"mongodb://localhost:27017/GoT.twitter\") \\\n",
    "    .getOrCreate()"
   ]
  },
  {
   "cell_type": "code",
   "execution_count": 89,
   "id": "12dbc6c0",
   "metadata": {},
   "outputs": [],
   "source": [
    "\n",
    "df = spark.read.csv('C:\\\\data files\\\\June2016 GOT.csv',inferSchema=True, header =True)\n"
   ]
  },
  {
   "cell_type": "code",
   "execution_count": 90,
   "id": "5adbbc4f",
   "metadata": {},
   "outputs": [
    {
     "name": "stdout",
     "output_type": "stream",
     "text": [
      "root\n",
      " |-- poster: string (nullable = true)\n",
      " |-- recipient: string (nullable = true)\n",
      " |-- relationship: string (nullable = true)\n",
      " |-- tweet date: string (nullable = true)\n",
      " |-- tweet id: string (nullable = true)\n",
      " |-- tweet: string (nullable = true)\n",
      " |-- hashtags: string (nullable = true)\n",
      " |-- retweet status: string (nullable = true)\n",
      "\n"
     ]
    }
   ],
   "source": [
    "df.printSchema()"
   ]
  },
  {
   "cell_type": "code",
   "execution_count": 91,
   "id": "50736b04",
   "metadata": {},
   "outputs": [
    {
     "name": "stdout",
     "output_type": "stream",
     "text": [
      "+--------------------+---------------+------------+--------------------+------------------+--------------------+--------------------+--------------+\n",
      "|              poster|      recipient|relationship|          tweet date|          tweet id|               tweet|            hashtags|retweet status|\n",
      "+--------------------+---------------+------------+--------------------+------------------+--------------------+--------------------+--------------+\n",
      "|               M04th|         Cutevl|       reply|Wed Jun 01 06:32:...|737894675277852674|@Cutevl انا اصدار...|                  []|         False|\n",
      "|          aRnecutska|chris_voloshina|    mentions|Wed Jun 01 06:34:...|737895014991302656|RT @chris_voloshi...|                  []|          True|\n",
      "|          aRnecutska|     aRnecutska|    mentions|Wed Jun 01 06:34:...|737895014991302656|RT @chris_voloshi...|                  []|          True|\n",
      "|        Macready1306|   Macready1306|       tweet|Wed Jun 01 06:35:...|737895438624423937|I've never watche...|   ['GameOfThrones']|         False|\n",
      "|       wahanapenulis|  wahanapenulis|       tweet|Wed Jun 01 06:38:...|737896168445870080|I'm Tyrion. Disco...|   ['GameOfThrones']|         False|\n",
      "|          Mshari_RMD|     Mshari_RMD|       tweet|Wed Jun 01 06:39:...|737896235567329280|اللهم احفظني من ب...|                  []|         False|\n",
      "|       scopece_marco|EmiliaClarkeNet|    mentions|Wed Jun 01 06:44:...|737897535788961792|RT @EmiliaClarkeN...|   ['GameofThrones']|          True|\n",
      "|       scopece_marco|   emiliaclarke|    mentions|Wed Jun 01 06:44:...|737897535788961792|RT @EmiliaClarkeN...|   ['GameofThrones']|          True|\n",
      "|            Yayahemo|     GoT_Tyrion|    mentions|Wed Jun 01 06:46:...|737898005542674432|RT @GoT_Tyrion: W...|   ['GameofThrones']|          True|\n",
      "|        HodorRewards|      jonsnowyy|    mentions|Wed Jun 01 06:49:...|737898739558404096|RT @jonsnowyy: We...|['gameofthrones',...|          True|\n",
      "|       ChuckForBlair|       Daenerys|    mentions|Wed Jun 01 06:49:...|737898911529066499|RT @Daenerys: Kha...|   ['GameofThrones']|          True|\n",
      "|         kirstein_96|wasted_insomnia|    mentions|Wed Jun 01 06:49:...|737898911508140032|RT @wasted_insomn...|                null|          null|\n",
      "|by Ramon Todo htt...|['порновленте']|        True|                null|              null|                null|                null|          null|\n",
      "|     6516460c32f4431|  FallonTonight|    mentions|Wed Jun 01 07:04:...|737902698985586688|RT @FallonTonight...|   ['GameOfThrones']|          True|\n",
      "|           AK_____47|  Thrones_Memes|    mentions|Wed Jun 01 07:06:...|737903210665512960|RT @Thrones_Memes...|   ['GameOfThrones']|          True|\n",
      "|        smithstock24|      Crackmacs|    mentions|Wed Jun 01 07:15:...|737905333004345344|RT @Crackmacs: Co...|['hodor', 'gameof...|          True|\n",
      "|        smithstock24|         jaaxed|    mentions|Wed Jun 01 07:15:...|737905333004345344|RT @Crackmacs: Co...|['hodor', 'gameof...|          True|\n",
      "|          shahryar92|     shahryar92|       tweet|Wed Jun 01 07:15:...|737905450419650560|I can't even... F...|['JonSnow', 'Mumt...|         False|\n",
      "|            yananeks|       yananeks|       tweet|Wed Jun 01 07:18:...|737906167683424256|У всех нет горяче...|                  []|         False|\n",
      "|      named_Catherin| named_Catherin|       tweet|Wed Jun 01 07:19:...|737906406720995328|сделала мотивирую...|                  []|         False|\n",
      "+--------------------+---------------+------------+--------------------+------------------+--------------------+--------------------+--------------+\n",
      "only showing top 20 rows\n",
      "\n"
     ]
    }
   ],
   "source": [
    "df.show()"
   ]
  },
  {
   "cell_type": "code",
   "execution_count": 92,
   "id": "5752e239",
   "metadata": {},
   "outputs": [],
   "source": [
    "#Get rid of false positives\n",
    "#Drop all where hashtag != gameofthrones\n",
    "\n",
    "df = df.withColumn(\"hashtags\", lower(col(\"hashtags\")))\n",
    "df = df.filter(df.hashtags.contains(\"gameofthrones\"))\n"
   ]
  },
  {
   "cell_type": "code",
   "execution_count": 93,
   "id": "4c907ef9",
   "metadata": {},
   "outputs": [
    {
     "name": "stdout",
     "output_type": "stream",
     "text": [
      "+---------------+---------------+------------+--------------------+------------------+--------------------+--------------------+--------------+\n",
      "|         poster|      recipient|relationship|          tweet date|          tweet id|               tweet|            hashtags|retweet status|\n",
      "+---------------+---------------+------------+--------------------+------------------+--------------------+--------------------+--------------+\n",
      "|   Macready1306|   Macready1306|       tweet|Wed Jun 01 06:35:...|737895438624423937|I've never watche...|   ['gameofthrones']|         False|\n",
      "|  wahanapenulis|  wahanapenulis|       tweet|Wed Jun 01 06:38:...|737896168445870080|I'm Tyrion. Disco...|   ['gameofthrones']|         False|\n",
      "|  scopece_marco|EmiliaClarkeNet|    mentions|Wed Jun 01 06:44:...|737897535788961792|RT @EmiliaClarkeN...|   ['gameofthrones']|          True|\n",
      "|  scopece_marco|   emiliaclarke|    mentions|Wed Jun 01 06:44:...|737897535788961792|RT @EmiliaClarkeN...|   ['gameofthrones']|          True|\n",
      "|       Yayahemo|     GoT_Tyrion|    mentions|Wed Jun 01 06:46:...|737898005542674432|RT @GoT_Tyrion: W...|   ['gameofthrones']|          True|\n",
      "|   HodorRewards|      jonsnowyy|    mentions|Wed Jun 01 06:49:...|737898739558404096|RT @jonsnowyy: We...|['gameofthrones',...|          True|\n",
      "|  ChuckForBlair|       Daenerys|    mentions|Wed Jun 01 06:49:...|737898911529066499|RT @Daenerys: Kha...|   ['gameofthrones']|          True|\n",
      "|6516460c32f4431|  FallonTonight|    mentions|Wed Jun 01 07:04:...|737902698985586688|RT @FallonTonight...|   ['gameofthrones']|          True|\n",
      "|      AK_____47|  Thrones_Memes|    mentions|Wed Jun 01 07:06:...|737903210665512960|RT @Thrones_Memes...|   ['gameofthrones']|          True|\n",
      "|   smithstock24|      Crackmacs|    mentions|Wed Jun 01 07:15:...|737905333004345344|RT @Crackmacs: Co...|['hodor', 'gameof...|          True|\n",
      "|   smithstock24|         jaaxed|    mentions|Wed Jun 01 07:15:...|737905333004345344|RT @Crackmacs: Co...|['hodor', 'gameof...|          True|\n",
      "|     shahryar92|     shahryar92|       tweet|Wed Jun 01 07:15:...|737905450419650560|I can't even... F...|['jonsnow', 'mumt...|         False|\n",
      "|   ThroneNews99|   ThroneNews99|       tweet|Wed Jun 01 07:20:...|737906679359123457|petitfinger: Drog...|   ['gameofthrones']|         False|\n",
      "|        ImYanzy|     GoT_Tyrion|    mentions|Wed Jun 01 07:31:...|737909510518493185|RT @GoT_Tyrion: C...|   ['gameofthrones']|          True|\n",
      "|electedparadise|  Thrones_Memes|    mentions|Wed Jun 01 07:33:...|737909971917099009|RT @Thrones_Memes...|   ['gameofthrones']|          True|\n",
      "|    pimhaemiah_|        planpan|    mentions|Wed Jun 01 07:36:...|737910777215123456|RT @planpan: ฝากป...|['สงครามนางงาม2',...|          True|\n",
      "|         Em_S97|  FallonTonight|    mentions|Wed Jun 01 07:37:...|737910835914407936|RT @FallonTonight...|   ['gameofthrones']|          True|\n",
      "|  NicolasCatard|  NicolasCatard|       tweet|Wed Jun 01 07:56:...|737915613218230275|Un homme de goût ...|   ['gameofthrones']|         False|\n",
      "| itisanobrainer| Daniel_Portman|       reply|Wed Jun 01 07:56:...|737915730679713792|@Daniel_Portman T...|['got', 'gameofth...|         False|\n",
      "| itisanobrainer| BrainTumourOrg|    mentions|Wed Jun 01 07:56:...|737915730679713792|@Daniel_Portman T...|['got', 'gameofth...|         False|\n",
      "+---------------+---------------+------------+--------------------+------------------+--------------------+--------------------+--------------+\n",
      "only showing top 20 rows\n",
      "\n"
     ]
    }
   ],
   "source": [
    "df.show()"
   ]
  },
  {
   "cell_type": "code",
   "execution_count": 94,
   "id": "6d89f380",
   "metadata": {},
   "outputs": [],
   "source": [
    "#Store in MongoDB\n",
    "df.write.format(\"mongo\").mode(\"append\").save()\n",
    "\n"
   ]
  },
  {
   "cell_type": "code",
   "execution_count": 95,
   "id": "328d16d4",
   "metadata": {},
   "outputs": [],
   "source": [
    " spark.stop()"
   ]
  }
 ],
 "metadata": {
  "kernelspec": {
   "display_name": "Python 3 (ipykernel)",
   "language": "python",
   "name": "python3"
  },
  "language_info": {
   "codemirror_mode": {
    "name": "ipython",
    "version": 3
   },
   "file_extension": ".py",
   "mimetype": "text/x-python",
   "name": "python",
   "nbconvert_exporter": "python",
   "pygments_lexer": "ipython3",
   "version": "3.9.12"
  }
 },
 "nbformat": 4,
 "nbformat_minor": 5
}
